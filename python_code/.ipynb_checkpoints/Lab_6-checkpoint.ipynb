{
 "cells": [
  {
   "cell_type": "code",
   "execution_count": 73,
   "metadata": {},
   "outputs": [
    {
     "name": "stdout",
     "output_type": "stream",
     "text": [
      "How many number u want to check:\n",
      "3\n",
      "Enter a number between 1 to 999 :111\n",
      "One Hundred and Eleven\n",
      "Enter a number between 1 to 999 :876\n",
      "Eight Hundred and Seventy Six\n",
      "Enter a number between 1 to 999 :22\n",
      "Twenty Two\n"
     ]
    }
   ],
   "source": [
    "'''\n",
    "lab_6\n",
    "Author:Gaurav Sawant\n",
    "Date:07 December 2020\n",
    "'''\n",
    "times=int(input(\"How many number u want to check:\\n\"))\n",
    "while times>=1:\n",
    "    user_input=int(input(\"Enter a number between 1 to 999 :\"))\n",
    "    number_1=[\"\",\"One\",\"Two\",\"Three\",\"Four\",\"Five\",\"Six\",\"Seven\",\"Eight\",\"Nine\"]\n",
    "    number_2=[\"Ten\",\"Eleven\",\"Twelve\",\"Thirteen\",\"Fourteen\",\"Fifteen\",\"Sixteen\",\"Seventeen\",\"Eighteen\",\"Nineteen\"]\n",
    "    number_3=[\"Twenty\",\"Thirty\",\"Forty\",\"Fifty\",\"Sixty\",\"Seventy\",\"Eighty\",\"Ninety\"]\n",
    "    #while input(\"Do You Want To Continue? [y/n]\") == \"y\":\n",
    "    if user_input<=9:\n",
    "        print(number_1[user_input])\n",
    "    elif user_input>=10 and user_input<=19:\n",
    "        temp=user_input%10\n",
    "        print(number_2[temp])\n",
    "    elif user_input>=20 and user_input<=99:\n",
    "        temp_1=user_input//10\n",
    "        #to find equivalent word from number_3\n",
    "        temp_2=temp_1-2\n",
    "        temp_3=user_input%10\n",
    "        if(temp_3==0):\n",
    "            print(number_3[temp_2])\n",
    "        else:\n",
    "            print(number_3[temp_2] + \" \" + number_1[temp_3])\n",
    "    elif user_input>=100 and user_input<=999:\n",
    "        a = user_input // 100\n",
    "        b = user_input % 100\n",
    "        c = b // 10\n",
    "        d = b % 10\n",
    "        if c == 1 :\n",
    "            print(number_1[a] + \" Hundred and\" , number_2[a])\n",
    "        elif c == 0:\n",
    "            print(number_1[a] + \" Hundred \" , number_1[d])\n",
    "        else:\n",
    "            c-=2\n",
    "            if d == 0:\n",
    "                print(number_1[a] + \" Hundred and\", number_3[d])\n",
    "            else:\n",
    "                print(number_1[a] + \" Hundred and\" , number_3[c], number_1[d])\n",
    "    times-=1"
   ]
  },
  {
   "cell_type": "code",
   "execution_count": null,
   "metadata": {},
   "outputs": [],
   "source": []
  },
  {
   "cell_type": "code",
   "execution_count": null,
   "metadata": {},
   "outputs": [],
   "source": []
  },
  {
   "cell_type": "code",
   "execution_count": null,
   "metadata": {},
   "outputs": [],
   "source": []
  },
  {
   "cell_type": "code",
   "execution_count": null,
   "metadata": {},
   "outputs": [],
   "source": []
  },
  {
   "cell_type": "code",
   "execution_count": 59,
   "metadata": {},
   "outputs": [
    {
     "name": "stdout",
     "output_type": "stream",
     "text": [
      "Enter a number between 1 to 999 :111\n",
      "One Hundred and Eleven : 111\n"
     ]
    }
   ],
   "source": [
    "user_input=int(input(\"Enter a number between 1 to 999 :\"))\n",
    "number_1=[\"\",\"One\",\"Two\",\"Three\",\"Four\",\"Five\",\"Six\",\"Seven\",\"Eight\",\"Nine\"]\n",
    "number_2=[\"Ten\",\"Eleven\",\"Twelve\",\"Thirteen\",\"Fourteen\",\"Fifteen\",\"Sixteen\",\"Seventeen\",\"Eighteen\",\"Nineteen\"]\n",
    "number_3=[\"Twenty\",\"Thirty\",\"Forty\",\"Fifty\",\"Sixty\",\"Seventy\",\"Eighty\",\"Ninety\"]\n",
    "#while input(\"Do You Want To Continue? [y/n]\") == \"y\":\n",
    "if user_input<=9:\n",
    "    print(number_1[user_input])\n",
    "elif user_input>=10 and user_input<=19:\n",
    "    temp=user_input%10\n",
    "    print(number_2[temp])\n",
    "elif user_input>=20 and user_input<=99:\n",
    "    temp_1=user_input//10\n",
    "    #to find equivalent word from number_3\n",
    "    temp_2=temp_1-2\n",
    "    temp_3=user_input%10\n",
    "    if(temp_3==0):\n",
    "        print(number_3[temp_2])\n",
    "    else:\n",
    "        print(number_3[temp_2] + \" \" + number_1[temp_3])\n",
    "elif user_input>=100 and user_input<=999:\n",
    "    a = user_input // 100\n",
    "    b = user_input % 100\n",
    "    c = b // 10\n",
    "    d = b % 10\n",
    "    if c == 1 :\n",
    "        print(number_1[a] + \" Hundred and\" , number_2[a])\n",
    "    elif c == 0:\n",
    "        print(number_1[a] + \" Hundred \" , number_1[d])\n",
    "    else:\n",
    "        c-=2\n",
    "        if d == 0:\n",
    "            print(number_1[a] + \" Hundred and\", number_3[d])\n",
    "        else:\n",
    "            print(number_1[a] + \" Hundred and\" , number_3[c], number_1[d])"
   ]
  }
 ],
 "metadata": {
  "kernelspec": {
   "display_name": "Python 3",
   "language": "python",
   "name": "python3"
  },
  "language_info": {
   "codemirror_mode": {
    "name": "ipython",
    "version": 3
   },
   "file_extension": ".py",
   "mimetype": "text/x-python",
   "name": "python",
   "nbconvert_exporter": "python",
   "pygments_lexer": "ipython3",
   "version": "3.6.9"
  }
 },
 "nbformat": 4,
 "nbformat_minor": 4
}
