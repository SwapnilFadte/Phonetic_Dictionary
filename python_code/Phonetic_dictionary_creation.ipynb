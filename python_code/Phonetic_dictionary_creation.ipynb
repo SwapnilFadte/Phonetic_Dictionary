{
 "cells": [
  {
   "cell_type": "markdown",
   "metadata": {
    "id": "Pbcgtq-niZLT"
   },
   "source": [
    "'''\n",
    " 08/10/2022\n",
    "\n",
    "This program is intended for creation of **lexicon/phonetic dictionary**.\n",
    "\n",
    " Following are the steps in the program\n",
    "  \n",
    "\n",
    "1.   program take input as set of text files and extract all unique Devanagari word and store it as sorted list of words\n",
    "2.   single or multiple phonetical traciption are generated and dictionary is created and stored as a text file.\n",
    "\n",
    "'''"
   ]
  },
  {
   "cell_type": "code",
   "execution_count": 1,
   "metadata": {
    "colab": {
     "base_uri": "https://localhost:8080/"
    },
    "executionInfo": {
     "elapsed": 468,
     "status": "ok",
     "timestamp": 1665306670659,
     "user": {
      "displayName": "Hanumant Harichandra Redkar",
      "userId": "04846405555973888391"
     },
     "user_tz": -330
    },
    "id": "FdR74n21jbjV",
    "outputId": "c7e81854-a403-4822-8406-6d119dd6408d"
   },
   "outputs": [
    {
     "ename": "FileNotFoundError",
     "evalue": "[Errno 2] No such file or directory: 'ContemporaryTextFiles/file1.txt'",
     "output_type": "error",
     "traceback": [
      "\u001b[1;31m---------------------------------------------------------------------------\u001b[0m",
      "\u001b[1;31mFileNotFoundError\u001b[0m                         Traceback (most recent call last)",
      "Input \u001b[1;32mIn [1]\u001b[0m, in \u001b[0;36m<cell line: 5>\u001b[1;34m()\u001b[0m\n\u001b[0;32m      1\u001b[0m \u001b[38;5;66;03m# taking input from file\u001b[39;00m\n\u001b[0;32m      2\u001b[0m \u001b[38;5;66;03m# from google.colab import drive\u001b[39;00m\n\u001b[0;32m      3\u001b[0m \u001b[38;5;66;03m# drive.mount('/content/content/drive')\u001b[39;00m\n\u001b[1;32m----> 5\u001b[0m \u001b[38;5;28;01mwith\u001b[39;00m \u001b[38;5;28;43mopen\u001b[39;49m\u001b[43m(\u001b[49m\u001b[38;5;124;43m'\u001b[39;49m\u001b[38;5;124;43mContemporaryTextFiles/file1.txt\u001b[39;49m\u001b[38;5;124;43m'\u001b[39;49m\u001b[43m,\u001b[49m\u001b[43m \u001b[49m\u001b[38;5;124;43m'\u001b[39;49m\u001b[38;5;124;43mrt\u001b[39;49m\u001b[38;5;124;43m'\u001b[39;49m\u001b[43m)\u001b[49m \u001b[38;5;28;01mas\u001b[39;00m myFile:\n\u001b[0;32m      6\u001b[0m   \u001b[38;5;28;01mfor\u001b[39;00m myLine \u001b[38;5;129;01min\u001b[39;00m myFile:\n\u001b[0;32m      7\u001b[0m     \u001b[38;5;28mprint\u001b[39m(myLine)\n",
      "\u001b[1;31mFileNotFoundError\u001b[0m: [Errno 2] No such file or directory: 'ContemporaryTextFiles/file1.txt'"
     ]
    }
   ],
   "source": [
    "# taking input from file\n",
    "# from google.colab import drive\n",
    "# drive.mount('/content/content/drive')\n",
    "\n",
    "with open('ContemporaryTextFiles/file1.txt', 'rt') as myFile:\n",
    "  for myLine in myFile:\n",
    "    print(myLine);\n",
    "\n",
    "    \n"
   ]
  },
  {
   "cell_type": "code",
   "execution_count": 6,
   "metadata": {
    "id": "RJBFGkLLAzHE"
   },
   "outputs": [
    {
     "ename": "FileNotFoundError",
     "evalue": "[WinError 3] The system cannot find the path specified: 'ContemporaryTextFiles'",
     "output_type": "error",
     "traceback": [
      "\u001b[1;31m---------------------------------------------------------------------------\u001b[0m",
      "\u001b[1;31mFileNotFoundError\u001b[0m                         Traceback (most recent call last)",
      "Input \u001b[1;32mIn [6]\u001b[0m, in \u001b[0;36m<cell line: 8>\u001b[1;34m()\u001b[0m\n\u001b[0;32m      6\u001b[0m \u001b[38;5;28;01mimport\u001b[39;00m \u001b[38;5;21;01mos\u001b[39;00m \n\u001b[0;32m      7\u001b[0m count \u001b[38;5;241m=\u001b[39m \u001b[38;5;241m0\u001b[39m\n\u001b[1;32m----> 8\u001b[0m files \u001b[38;5;241m=\u001b[39m \u001b[43mos\u001b[49m\u001b[38;5;241;43m.\u001b[39;49m\u001b[43mlistdir\u001b[49m\u001b[43m(\u001b[49m\u001b[38;5;124;43m'\u001b[39;49m\u001b[38;5;124;43mContemporaryTextFiles\u001b[39;49m\u001b[38;5;124;43m'\u001b[39;49m\u001b[43m)\u001b[49m\n\u001b[0;32m      9\u001b[0m \u001b[38;5;28;01mfor\u001b[39;00m item \u001b[38;5;129;01min\u001b[39;00m files:\n\u001b[0;32m     10\u001b[0m   count \u001b[38;5;241m=\u001b[39m count\u001b[38;5;241m+\u001b[39m\u001b[38;5;241m1\u001b[39m\n",
      "\u001b[1;31mFileNotFoundError\u001b[0m: [WinError 3] The system cannot find the path specified: 'ContemporaryTextFiles'"
     ]
    }
   ],
   "source": [
    "# Script to rename files \n",
    "# from google.colab import drive\n",
    "# drive.mount('/content/content/drive') \n",
    "# drive.mount('/content/ContemporaryTextFiles/')\n",
    "\n",
    "import os \n",
    "count = 0\n",
    "files = os.listdir('ContemporaryTextFiles')\n",
    "for item in files:\n",
    "  count = count+1\n",
    "print(count)\n",
    "\n",
    "#src = os.listdir('ContemporaryTextFiles')\n",
    "src = os.listdir('ContemporaryTextFiles')[1]\n",
    "# print(src)\n",
    "dir = 'ContemporaryTextFiles/'\n",
    "index = 0\n",
    "for item in files:\n",
    "  while index < count:\n",
    "    src = os.listdir('ContemporaryTextFiles')[index]\n",
    "    # START FILE OPERATION\n",
    "    print(src)\n",
    "    os.rename(dir+src, 'file_'+str(index)+'.txt')\n",
    "    print('Renamed...')\n",
    "    # with open('ContemporaryTextFiles/'+src, 'rt') as myFile:\n",
    "    #   for myLine in myFile:\n",
    "    #     print(myLine);\n",
    "    #     break;\n",
    "    #  START FILE OPERATION\n",
    "    index = index+1\n",
    "\n",
    "\n",
    "\n",
    "# print('Updated Files')\n",
    "# print(os.listdir('ContemporaryTextFiles'))\n",
    "\n",
    "# count = os.listdir('ContemporaryTextFiles').count()\n",
    "# print(count)\n",
    "# os.rename()"
   ]
  },
  {
   "cell_type": "code",
   "execution_count": 3,
   "metadata": {
    "id": "ymY-aJTiBBHL"
   },
   "outputs": [
    {
     "ename": "FileNotFoundError",
     "evalue": "[WinError 3] The system cannot find the path specified: 'ContemporaryTextFiles'",
     "output_type": "error",
     "traceback": [
      "\u001b[1;31m---------------------------------------------------------------------------\u001b[0m",
      "\u001b[1;31mFileNotFoundError\u001b[0m                         Traceback (most recent call last)",
      "Input \u001b[1;32mIn [3]\u001b[0m, in \u001b[0;36m<cell line: 4>\u001b[1;34m()\u001b[0m\n\u001b[0;32m      2\u001b[0m \u001b[38;5;28;01mimport\u001b[39;00m \u001b[38;5;21;01mos\u001b[39;00m \n\u001b[0;32m      3\u001b[0m count \u001b[38;5;241m=\u001b[39m \u001b[38;5;241m0\u001b[39m\n\u001b[1;32m----> 4\u001b[0m files \u001b[38;5;241m=\u001b[39m \u001b[43mos\u001b[49m\u001b[38;5;241;43m.\u001b[39;49m\u001b[43mlistdir\u001b[49m\u001b[43m(\u001b[49m\u001b[38;5;124;43m'\u001b[39;49m\u001b[38;5;124;43mContemporaryTextFiles\u001b[39;49m\u001b[38;5;124;43m'\u001b[39;49m\u001b[43m)\u001b[49m\n\u001b[0;32m      5\u001b[0m \u001b[38;5;28;01mfor\u001b[39;00m item \u001b[38;5;129;01min\u001b[39;00m files:\n\u001b[0;32m      6\u001b[0m   count \u001b[38;5;241m=\u001b[39m count\u001b[38;5;241m+\u001b[39m\u001b[38;5;241m1\u001b[39m\n",
      "\u001b[1;31mFileNotFoundError\u001b[0m: [WinError 3] The system cannot find the path specified: 'ContemporaryTextFiles'"
     ]
    }
   ],
   "source": [
    "# Script to Uniquely extract unique tokens \n",
    "import os \n",
    "count = 0\n",
    "files = os.listdir('ContemporaryTextFiles')\n",
    "for item in files:\n",
    "  count = count+1\n",
    "print(count)\n",
    "\n",
    "#src = os.listdir('ContemporaryTextFiles')\n",
    "src = os.listdir('ContemporaryTextFiles')[1]\n",
    "# print(src)\n",
    "dir = 'ContemporaryTextFiles/'\n",
    "index = 0\n",
    "for item in files:\n",
    "  while index < count:\n",
    "    src = os.listdir('ContemporaryTextFiles')[index]\n",
    "    # START FILE OPERATION\n",
    "    print(src)\n",
    "    os.rename(dir+src, 'file_'+str(index)+'.txt')\n",
    "    print('Renamed...')\n",
    "    # with open('ContemporaryTextFiles/'+src, 'rt') as myFile:\n",
    "    #   for myLine in myFile:\n",
    "    #     print(myLine);\n",
    "    #     break;\n",
    "    #  START FILE OPERATION\n",
    "    index = index+1\n",
    "\n"
   ]
  },
  {
   "cell_type": "code",
   "execution_count": 7,
   "metadata": {
    "colab": {
     "base_uri": "https://localhost:8080/"
    },
    "executionInfo": {
     "elapsed": 578,
     "status": "ok",
     "timestamp": 1665310917136,
     "user": {
      "displayName": "Hanumant Harichandra Redkar",
      "userId": "04846405555973888391"
     },
     "user_tz": -330
    },
    "id": "EJkDHlayQXQW",
    "outputId": "cdca5777-92cc-4982-8bf5-7ece7942ce55"
   },
   "outputs": [
    {
     "ename": "FileNotFoundError",
     "evalue": "[Errno 2] No such file or directory: 'ContemporaryTextFiles/data.txt'",
     "output_type": "error",
     "traceback": [
      "\u001b[1;31m---------------------------------------------------------------------------\u001b[0m",
      "\u001b[1;31mFileNotFoundError\u001b[0m                         Traceback (most recent call last)",
      "Input \u001b[1;32mIn [7]\u001b[0m, in \u001b[0;36m<cell line: 3>\u001b[1;34m()\u001b[0m\n\u001b[0;32m      1\u001b[0m \u001b[38;5;66;03m# Program to Extract Unique words from English Text\u001b[39;00m\n\u001b[0;32m      2\u001b[0m \u001b[38;5;28mdir\u001b[39m \u001b[38;5;241m=\u001b[39m \u001b[38;5;124m'\u001b[39m\u001b[38;5;124mContemporaryTextFiles/\u001b[39m\u001b[38;5;124m'\u001b[39m;\n\u001b[1;32m----> 3\u001b[0m text_file \u001b[38;5;241m=\u001b[39m \u001b[38;5;28;43mopen\u001b[39;49m\u001b[43m(\u001b[49m\u001b[38;5;28;43mdir\u001b[39;49m\u001b[38;5;241;43m+\u001b[39;49m\u001b[38;5;124;43m'\u001b[39;49m\u001b[38;5;124;43mdata.txt\u001b[39;49m\u001b[38;5;124;43m'\u001b[39;49m\u001b[43m,\u001b[49m\u001b[43m \u001b[49m\u001b[38;5;124;43m'\u001b[39;49m\u001b[38;5;124;43mr\u001b[39;49m\u001b[38;5;124;43m'\u001b[39;49m\u001b[43m)\u001b[49m\n\u001b[0;32m      4\u001b[0m text \u001b[38;5;241m=\u001b[39m text_file\u001b[38;5;241m.\u001b[39mread()\n\u001b[0;32m      6\u001b[0m \u001b[38;5;66;03m#cleaning\u001b[39;00m\n",
      "\u001b[1;31mFileNotFoundError\u001b[0m: [Errno 2] No such file or directory: 'ContemporaryTextFiles/data.txt'"
     ]
    }
   ],
   "source": [
    "# Program to Extract Unique words from English Text\n",
    "dir = 'ContemporaryTextFiles/';\n",
    "text_file = open(dir+'data.txt', 'r')\n",
    "text = text_file.read()\n",
    "\n",
    "#cleaning\n",
    "text = text.lower()\n",
    "words = text.split()\n",
    "words = [word.strip('.,!;()[]') for word in words]\n",
    "words = [word.replace(\"'s\", '') for word in words]\n",
    "\n",
    "#finding unique\n",
    "unique = []\n",
    "for word in words:\n",
    "    if word not in unique:\n",
    "        unique.append(word)\n",
    "\n",
    "#sort\n",
    "unique.sort()\n",
    "\n",
    "#print\n",
    "print(unique)\n",
    "# WORKING"
   ]
  },
  {
   "cell_type": "code",
   "execution_count": 10,
   "metadata": {
    "colab": {
     "base_uri": "https://localhost:8080/"
    },
    "executionInfo": {
     "elapsed": 549,
     "status": "ok",
     "timestamp": 1665311142602,
     "user": {
      "displayName": "Hanumant Harichandra Redkar",
      "userId": "04846405555973888391"
     },
     "user_tz": -330
    },
    "id": "gOgC4Ge2Q_0F",
    "outputId": "51c0e0ab-baf4-49be-967c-94a0359972fe"
   },
   "outputs": [
    {
     "ename": "FileNotFoundError",
     "evalue": "[Errno 2] No such file or directory: 'InputFiles/file_0.txt'",
     "output_type": "error",
     "traceback": [
      "\u001b[1;31m---------------------------------------------------------------------------\u001b[0m",
      "\u001b[1;31mFileNotFoundError\u001b[0m                         Traceback (most recent call last)",
      "Input \u001b[1;32mIn [10]\u001b[0m, in \u001b[0;36m<cell line: 3>\u001b[1;34m()\u001b[0m\n\u001b[0;32m      1\u001b[0m \u001b[38;5;66;03m# Program to Extract Unique words from Konkani Text\u001b[39;00m\n\u001b[0;32m      2\u001b[0m \u001b[38;5;28mdir\u001b[39m \u001b[38;5;241m=\u001b[39m \u001b[38;5;124m'\u001b[39m\u001b[38;5;124mInputFiles/\u001b[39m\u001b[38;5;124m'\u001b[39m;\n\u001b[1;32m----> 3\u001b[0m text_file \u001b[38;5;241m=\u001b[39m \u001b[38;5;28;43mopen\u001b[39;49m\u001b[43m(\u001b[49m\u001b[38;5;28;43mdir\u001b[39;49m\u001b[38;5;241;43m+\u001b[39;49m\u001b[38;5;124;43m'\u001b[39;49m\u001b[38;5;124;43mfile_0.txt\u001b[39;49m\u001b[38;5;124;43m'\u001b[39;49m\u001b[43m,\u001b[49m\u001b[43m \u001b[49m\u001b[38;5;124;43m'\u001b[39;49m\u001b[38;5;124;43mr\u001b[39;49m\u001b[38;5;124;43m'\u001b[39;49m\u001b[43m)\u001b[49m\n\u001b[0;32m      4\u001b[0m text \u001b[38;5;241m=\u001b[39m text_file\u001b[38;5;241m.\u001b[39mread()\n\u001b[0;32m      6\u001b[0m \u001b[38;5;66;03m#cleaning\u001b[39;00m\n\u001b[0;32m      7\u001b[0m \u001b[38;5;66;03m# text = text.lower()\u001b[39;00m\n",
      "\u001b[1;31mFileNotFoundError\u001b[0m: [Errno 2] No such file or directory: 'InputFiles/file_0.txt'"
     ]
    }
   ],
   "source": [
    "# Program to Extract Unique words from Konkani Text\n",
    "dir = 'InputFiles/';\n",
    "text_file = open(dir+'file_0.txt', 'r')\n",
    "text = text_file.read()\n",
    "\n",
    "#cleaning\n",
    "# text = text.lower()\n",
    "words = text.split()\n",
    "words = [word.strip('.,!;()[]') for word in words]\n",
    "words = [word.replace(\"'s\", '') for word in words]\n",
    "\n",
    "#finding unique\n",
    "unique = []\n",
    "for word in words:\n",
    "    if word not in unique:\n",
    "        unique.append(word)\n",
    "\n",
    "#sort\n",
    "unique.sort()\n",
    "\n",
    "#print\n",
    "print(unique)\n",
    "# WORKING"
   ]
  },
  {
   "cell_type": "code",
   "execution_count": 8,
   "metadata": {
    "colab": {
     "base_uri": "https://localhost:8080/"
    },
    "executionInfo": {
     "elapsed": 2838,
     "status": "ok",
     "timestamp": 1665321545349,
     "user": {
      "displayName": "Hanumant Harichandra Redkar",
      "userId": "04846405555973888391"
     },
     "user_tz": -330
    },
    "id": "rhiIy_SGR23X",
    "outputId": "c33835c3-0be0-4bb3-9009-cf47c4d524c3",
    "scrolled": true
   },
   "outputs": [
    {
     "ename": "FileNotFoundError",
     "evalue": "[Errno 2] No such file or directory: 'Input/SortedToBeSorted.txt'",
     "output_type": "error",
     "traceback": [
      "\u001b[1;31m---------------------------------------------------------------------------\u001b[0m",
      "\u001b[1;31mFileNotFoundError\u001b[0m                         Traceback (most recent call last)",
      "Input \u001b[1;32mIn [8]\u001b[0m, in \u001b[0;36m<cell line: 17>\u001b[1;34m()\u001b[0m\n\u001b[0;32m      2\u001b[0m \u001b[38;5;28;01mimport\u001b[39;00m \u001b[38;5;21;01mos\u001b[39;00m\n\u001b[0;32m      4\u001b[0m \u001b[38;5;66;03m# print(os.getcwd())\u001b[39;00m\n\u001b[0;32m      5\u001b[0m \n\u001b[0;32m      6\u001b[0m \u001b[38;5;66;03m# from google.colab import drive\u001b[39;00m\n\u001b[1;32m   (...)\u001b[0m\n\u001b[0;32m     14\u001b[0m \u001b[38;5;66;03m# text_file = open(dir+'T1-0010.txt', 'r')\u001b[39;00m\n\u001b[0;32m     15\u001b[0m \u001b[38;5;66;03m# text = text_file.read()\u001b[39;00m\n\u001b[1;32m---> 17\u001b[0m \u001b[38;5;28;01mwith\u001b[39;00m \u001b[38;5;28;43mopen\u001b[39;49m\u001b[43m(\u001b[49m\u001b[38;5;124;43m'\u001b[39;49m\u001b[38;5;124;43mInput/SortedToBeSorted.txt\u001b[39;49m\u001b[38;5;124;43m'\u001b[39;49m\u001b[43m,\u001b[49m\u001b[43m \u001b[49m\u001b[38;5;124;43m'\u001b[39;49m\u001b[38;5;124;43mrt\u001b[39;49m\u001b[38;5;124;43m'\u001b[39;49m\u001b[43m)\u001b[49m \u001b[38;5;28;01mas\u001b[39;00m myFile:\n\u001b[0;32m     18\u001b[0m   \u001b[38;5;28;01mfor\u001b[39;00m item \u001b[38;5;129;01min\u001b[39;00m myFile:\n\u001b[0;32m     19\u001b[0m     \u001b[38;5;66;03m# print(item)\u001b[39;00m\n\u001b[0;32m     20\u001b[0m     text \u001b[38;5;241m=\u001b[39m item;\n",
      "\u001b[1;31mFileNotFoundError\u001b[0m: [Errno 2] No such file or directory: 'Input/SortedToBeSorted.txt'"
     ]
    }
   ],
   "source": [
    "# Program to Extract Unique words from Konkani Text\n",
    "import os\n",
    "\n",
    "# print(os.getcwd())\n",
    "\n",
    "# from google.colab import drive\n",
    "# drive.mount('/content/gdrive/') \n",
    "\n",
    "# print(os.getcwd())\n",
    "\n",
    "# os.system('cd ')\n",
    "\n",
    "# dir = 'data/';\n",
    "# text_file = open(dir+'T1-0010.txt', 'r')\n",
    "# text = text_file.read()\n",
    "\n",
    "with open('Input/SortedToBeSorted.txt', 'rt') as myFile:\n",
    "  for item in myFile:\n",
    "    # print(item)\n",
    "    text = item;\n",
    "\n",
    "    #cleaning\n",
    "    text = text.lower()\n",
    "    words = text.split()\n",
    "    words = [word.strip('.,!;()[]') for word in words]\n",
    "    words = [word.replace(\"'s\", '') for word in words]\n",
    "\n",
    "\n",
    "    #finding unique\n",
    "    unique = []\n",
    "    for word in words:\n",
    "        if word not in unique:\n",
    "            unique.append(word)\n",
    "\n",
    "    #sort\n",
    "    unique.sort()\n",
    "\n",
    "    #print\n",
    "    print(unique)\n",
    "\n"
   ]
  },
  {
   "cell_type": "code",
   "execution_count": 5,
   "metadata": {},
   "outputs": [],
   "source": [
    "# code to take words in konkani and converts it to phonetic represantation\n",
    "path=CleanedData/\n",
    "file_name="
   ]
  },
  {
   "cell_type": "code",
   "execution_count": null,
   "metadata": {},
   "outputs": [],
   "source": []
  }
 ],
 "metadata": {
  "colab": {
   "collapsed_sections": [],
   "provenance": []
  },
  "kernelspec": {
   "display_name": "Python 3 (ipykernel)",
   "language": "python",
   "name": "python3"
  },
  "language_info": {
   "codemirror_mode": {
    "name": "ipython",
    "version": 3
   },
   "file_extension": ".py",
   "mimetype": "text/x-python",
   "name": "python",
   "nbconvert_exporter": "python",
   "pygments_lexer": "ipython3",
   "version": "3.9.12"
  }
 },
 "nbformat": 4,
 "nbformat_minor": 1
}
